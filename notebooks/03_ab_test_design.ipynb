{
 "cells": [
  {
   "cell_type": "code",
   "execution_count": 4,
   "id": "e7043e2c",
   "metadata": {},
   "outputs": [],
   "source": [
    "import numpy as np\n",
    "import statsmodels.stats.api as sms"
   ]
  },
  {
   "cell_type": "code",
   "execution_count": 6,
   "id": "9f865f30",
   "metadata": {},
   "outputs": [],
   "source": [
    "alpha = 0.05  # Significance level (p-value threshold)\n",
    "power = 0.80  # Desired statistical power (probability of detecting an effect if it exists)\n",
    "\n",
    "# Baseline Churn Rate (hypothetical for the high-risk group)\n",
    "# Let's assume our model identifies a high-risk segment where the churn rate is 50%\n",
    "baseline_churn_rate = 0.50\n",
    "\n",
    "# Minimum Detectable Effect (MDE)\n",
    "# We want to be able to detect at least a 5 percentage point reduction in churn\n",
    "# This means the churn rate in the treatment group would be 50% - 5% = 45%\n",
    "mde = 0.05\n",
    "treatment_churn_rate = baseline_churn_rate - mde"
   ]
  },
  {
   "cell_type": "code",
   "execution_count": 7,
   "id": "7e52da3b",
   "metadata": {},
   "outputs": [],
   "source": [
    "# Cell 3: Sample Size Calculation\n",
    "effect_size = sms.proportion_effectsize(baseline_churn_rate, treatment_churn_rate)\n",
    "\n",
    "# Perform the power analysis\n",
    "sample_size_per_group = sms.NormalIndPower().solve_power(\n",
    "    effect_size=effect_size,\n",
    "    power=power,\n",
    "    alpha=alpha,\n",
    "    ratio=1.0,  # Equal sample sizes for control and treatment\n",
    "    alternative='two-sided'\n",
    ")"
   ]
  },
  {
   "cell_type": "code",
   "execution_count": 8,
   "id": "e9d9c92e",
   "metadata": {},
   "outputs": [
    {
     "name": "stdout",
     "output_type": "stream",
     "text": [
      "--- A/B Test Sample Size Calculation ---\n",
      "Significance Level (alpha): 0.05\n",
      "Desired Power: 0.8\n",
      "Baseline Churn Rate: 50.00%\n",
      "Minimum Detectable Effect (MDE): 5.00%\n",
      "----------------------------------------\n",
      "Required sample size per group (Control & Treatment): 1565\n",
      "Total required sample size for the test: 3130\n"
     ]
    }
   ],
   "source": [
    "# Cell 4: Print Results\n",
    "print(\"--- A/B Test Sample Size Calculation ---\")\n",
    "print(f\"Significance Level (alpha): {alpha}\")\n",
    "print(f\"Desired Power: {power}\")\n",
    "print(f\"Baseline Churn Rate: {baseline_churn_rate:.2%}\")\n",
    "print(f\"Minimum Detectable Effect (MDE): {mde:.2%}\")\n",
    "print(\"-\" * 40)\n",
    "print(f\"Required sample size per group (Control & Treatment): {int(np.ceil(sample_size_per_group))}\")\n",
    "print(f\"Total required sample size for the test: {int(np.ceil(sample_size_per_group)) * 2}\")\n"
   ]
  },
  {
   "cell_type": "code",
   "execution_count": 9,
   "id": "e3aae9ef",
   "metadata": {},
   "outputs": [
    {
     "name": "stdout",
     "output_type": "stream",
     "text": [
      "\n",
      "--- Business Plan ---\n",
      "To confidently detect if our retention offer reduces churn by at least 5 percentage points,\n",
      "we need to target approximately 1565 high-risk customers for the treatment group\n",
      "and observe 1565 high-risk customers in a control group (who receive no offer).\n"
     ]
    }
   ],
   "source": [
    "# Cell 5: Business Story\n",
    "print(\"\\n--- Business Plan ---\")\n",
    "print(\"To confidently detect if our retention offer reduces churn by at least 5 percentage points,\")\n",
    "print(f\"we need to target approximately {int(np.ceil(sample_size_per_group))} high-risk customers for the treatment group\")\n",
    "print(f\"and observe {int(np.ceil(sample_size_per_group))} high-risk customers in a control group (who receive no offer).\")"
   ]
  }
 ],
 "metadata": {
  "kernelspec": {
   "display_name": "Python 3",
   "language": "python",
   "name": "python3"
  },
  "language_info": {
   "codemirror_mode": {
    "name": "ipython",
    "version": 3
   },
   "file_extension": ".py",
   "mimetype": "text/x-python",
   "name": "python",
   "nbconvert_exporter": "python",
   "pygments_lexer": "ipython3",
   "version": "3.10.9"
  }
 },
 "nbformat": 4,
 "nbformat_minor": 5
}
